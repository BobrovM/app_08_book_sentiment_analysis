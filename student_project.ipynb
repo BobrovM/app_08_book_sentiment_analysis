{
 "cells": [
  {
   "cell_type": "markdown",
   "id": "6e5afc94-c2a1-4c70-b780-7c3eadf5f1b3",
   "metadata": {},
   "source": [
    "# Load the book"
   ]
  },
  {
   "cell_type": "code",
   "execution_count": 1,
   "id": "e924f696-1c07-45f2-a9c1-b7ab1da0691c",
   "metadata": {},
   "outputs": [],
   "source": [
    "with open(\"miracle_in_the_andes.txt\", \"r\", encoding=\"UTF-8\") as file:\n",
    "    book = file.read()"
   ]
  },
  {
   "cell_type": "code",
   "execution_count": 2,
   "id": "c51698f3-86be-41e5-8799-9456de33e534",
   "metadata": {},
   "outputs": [],
   "source": [
    "import re"
   ]
  },
  {
   "cell_type": "markdown",
   "id": "939dbe2d-a198-4519-b371-46ce38e0846a",
   "metadata": {},
   "source": [
    "# Paragraphs where love was used"
   ]
  },
  {
   "cell_type": "code",
   "execution_count": 32,
   "id": "b1675709-0009-48b2-8909-93f22d82cc12",
   "metadata": {},
   "outputs": [
    {
     "data": {
      "text/plain": [
       "60"
      ]
     },
     "execution_count": 32,
     "metadata": {},
     "output_type": "execute_result"
    }
   ],
   "source": [
    "pattern = re.compile(\"[^\\n]+love[^\\n]+\")\n",
    "findings = re.findall(pattern, book)\n",
    "len(findings)"
   ]
  },
  {
   "cell_type": "markdown",
   "id": "ff7ed01a-af28-4b60-a389-8ebabc21ba6a",
   "metadata": {},
   "source": [
    "# Chapter titles"
   ]
  },
  {
   "cell_type": "code",
   "execution_count": 35,
   "id": "3417575b-d26b-40bb-8f42-2916df2b08d3",
   "metadata": {},
   "outputs": [
    {
     "data": {
      "text/plain": [
       "['Before',\n",
       " 'Everything Precious',\n",
       " 'A Promise',\n",
       " 'Breathe Once More',\n",
       " 'Abandoned',\n",
       " 'Tomb',\n",
       " 'East',\n",
       " 'The Opposite of Death',\n",
       " 'I See a Man',\n",
       " 'After']"
      ]
     },
     "execution_count": 35,
     "metadata": {},
     "output_type": "execute_result"
    }
   ],
   "source": [
    "pattern = re.compile(\"Chapter [0-9]+[\\n]+[^\\n]+[^\\n]{1}\")\n",
    "findings = re.findall(pattern, book)\n",
    "chapters = []\n",
    "for chapter in findings:\n",
    "    chapters.append(chapter.split(\"\\n\")[-1])\n",
    "chapters"
   ]
  },
  {
   "cell_type": "code",
   "execution_count": 37,
   "id": "a8a65a8e-9c20-4444-9ae7-8992a8764a7c",
   "metadata": {},
   "outputs": [
    {
     "data": {
      "text/plain": [
       "['Before',\n",
       " 'Everything Precious',\n",
       " 'A Promise',\n",
       " 'Breathe Once More',\n",
       " 'Abandoned',\n",
       " 'Tomb',\n",
       " 'East',\n",
       " 'The Opposite of Death',\n",
       " 'I See a Man',\n",
       " 'After']"
      ]
     },
     "execution_count": 37,
     "metadata": {},
     "output_type": "execute_result"
    }
   ],
   "source": [
    "pattern = re.compile(\"([a-zA-Z ]+)\\n\\n\")\n",
    "findings = re.findall(pattern, book)\n",
    "findings"
   ]
  },
  {
   "cell_type": "markdown",
   "id": "e2091947-5e9e-4689-8f18-408331e071c0",
   "metadata": {
    "tags": []
   },
   "source": [
    "# Function that finds occurence of any word"
   ]
  },
  {
   "cell_type": "code",
   "execution_count": 44,
   "id": "6e90fa3c-feb0-4da1-aff0-9bf63da4e697",
   "metadata": {},
   "outputs": [],
   "source": [
    "def func(word):\n",
    "    pattern = re.compile(f\"[^a-zA-Z-]+{word}[^a-zA-Z-]+\")\n",
    "    findings = re.findall(pattern, book)\n",
    "    amount = len(findings)\n",
    "    if amount == 0:\n",
    "        return f\"The book does not contain the word '{word}'.\"\n",
    "    return amount"
   ]
  },
  {
   "cell_type": "markdown",
   "id": "553e56df-20de-469f-ad8e-92e4ff746f35",
   "metadata": {
    "tags": []
   },
   "source": [
    "## Call the function"
   ]
  },
  {
   "cell_type": "code",
   "execution_count": 45,
   "id": "e09e5525-8368-4102-806e-76cf00d307ed",
   "metadata": {},
   "outputs": [
    {
     "data": {
      "text/plain": [
       "82"
      ]
     },
     "execution_count": 45,
     "metadata": {},
     "output_type": "execute_result"
    }
   ],
   "source": [
    "func(\"love\")"
   ]
  },
  {
   "cell_type": "code",
   "execution_count": 23,
   "id": "9733abdb-8b9e-4b54-9d22-0a7b98c4ae6d",
   "metadata": {},
   "outputs": [
    {
     "data": {
      "text/plain": [
       "\"The book does not contain the word 'hate'\""
      ]
     },
     "execution_count": 23,
     "metadata": {},
     "output_type": "execute_result"
    }
   ],
   "source": [
    "func(\"hate\")"
   ]
  }
 ],
 "metadata": {
  "kernelspec": {
   "display_name": "Python 3 (ipykernel)",
   "language": "python",
   "name": "python3"
  },
  "language_info": {
   "codemirror_mode": {
    "name": "ipython",
    "version": 3
   },
   "file_extension": ".py",
   "mimetype": "text/x-python",
   "name": "python",
   "nbconvert_exporter": "python",
   "pygments_lexer": "ipython3",
   "version": "3.11.1"
  }
 },
 "nbformat": 4,
 "nbformat_minor": 5
}
